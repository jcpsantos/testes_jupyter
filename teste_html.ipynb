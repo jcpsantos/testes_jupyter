{
 "cells": [
  {
   "cell_type": "markdown",
   "metadata": {},
   "source": [
    "### Lorem ipsum dolor sente-se entre, consectetur."
   ]
  },
  {
   "cell_type": "code",
   "execution_count": 1,
   "metadata": {},
   "outputs": [],
   "source": [
    "from IPython.display import display\n",
    "from IPython.display import HTML\n",
    "import IPython.core.display as di"
   ]
  },
  {
   "cell_type": "markdown",
   "metadata": {},
   "source": [
    "Lorem ipsum dolor sit amet, consectetur adipiscing elit. Ut laoreet finibus enim a ullamcorper. Nam blandit, felis quis ultricies sodales, libero neque pharetra nulla, nec dictum nibh diam sit amet risus. Proin convallis efficitur augue eu finibus. Etiam ut mi vitae urna rhoncus bibendum ac eget augue. Donec a rhoncus ipsum, sed ornare metus. Vestibulum id ultrices est. Donec eget metus ac libero scelerisque venenatis sed ac quam. Integer et ante nec urna gravida dignissim quis in nibh. Sed convallis nunc nec dui viverra, vitae imperdiet dolor pellentesque. Quisque eget ligula ac ligula auctor finibus vitae a risus. Curabitur eget nunc dictum, tincidunt magna ut, feugiat quam. Donec tempor blandit turpis, vel consectetur enim ornare vel. Etiam in neque condimentum, bibendum libero ac, ullamcorper odio. Fusce luctus congue semper. Morbi tempor sapien eget magna facilisis, in luctus nunc consequat. Cras nec rhoncus neque, a hendrerit eros."
   ]
  },
  {
   "cell_type": "code",
   "execution_count": 2,
   "metadata": {},
   "outputs": [],
   "source": [
    "def mark():\n",
    "    di.display_html('<script>jQuery(function() {if (jQuery(\"body.notebook_app\").length == 0) { jQuery(\".div.text_cell_render.rendered_html\").toggle();}});</script>', raw=True)\n",
    "    di.display_html('''<button onclick=\"jQuery('div.text_cell_render.rendered_html').toggle();\">Read more...</button>''', raw=True)"
   ]
  },
  {
   "cell_type": "markdown",
   "metadata": {},
   "source": [
    "Nunc dapibus consectetur fermentum. Aliquam venenatis auctor quam, eu tempor quam. Nunc pellentesque, nisi vitae volutpat commodo, erat mi bibendum sapien, eu pellentesque velit nulla et orci. Proin vulputate nulla ut efficitur placerat. Curabitur sit amet odio odio. Morbi ante urna, egestas sit amet pulvinar eget, malesuada vitae tortor. Curabitur molestie sed ante a dictum. Mauris vehicula dolor consectetur porta sodales. Praesent elit leo, posuere ut leo at, mattis aliquam lacus. Phasellus id pellentesque elit, id cursus lorem. Nullam tempus est scelerisque semper dignissim. Suspendisse neque metus, sagittis ac ex ac, consectetur euismod purus."
   ]
  },
  {
   "cell_type": "code",
   "execution_count": 3,
   "metadata": {},
   "outputs": [
    {
     "data": {
      "text/html": [
       "<script>jQuery(function() {if (jQuery(\"body.notebook_app\").length == 0) { jQuery(\".div.text_cell_render.rendered_html\").toggle();}});</script>"
      ]
     },
     "metadata": {},
     "output_type": "display_data"
    },
    {
     "data": {
      "text/html": [
       "<button onclick=\"jQuery('div.text_cell_render.rendered_html').toggle();\">Read more...</button>"
      ]
     },
     "metadata": {},
     "output_type": "display_data"
    }
   ],
   "source": [
    "mark()"
   ]
  },
  {
   "cell_type": "markdown",
   "metadata": {},
   "source": [
    "Aliquam pretium justo a elit condimentum viverra. Aenean vehicula est nisi, ut accumsan risus mollis volutpat. Sed interdum urna sit amet rhoncus dapibus. In pulvinar turpis et interdum faucibus. Suspendisse dolor urna, efficitur porttitor neque in, laoreet placerat lectus. Sed imperdiet, mi in scelerisque euismod, massa enim ultrices eros, vitae ultrices lacus sapien convallis augue. Nunc fringilla neque mi, vel placerat ligula rhoncus non. Quisque vel sem et velit interdum luctus. Fusce in lectus et justo dapibus mattis. Proin sit amet suscipit erat, sed aliquam arcu. Mauris iaculis at tortor ac condimentum. Pellentesque id molestie felis. Nam congue elit urna, non placerat felis sagittis nec.\n",
    "\n",
    "Donec ligula magna, pulvinar eu leo vitae, vehicula posuere diam. Duis tincidunt consectetur diam, in gravida quam efficitur suscipit. Curabitur sit amet magna maximus lectus accumsan vestibulum in quis dolor. Curabitur suscipit lectus a tellus semper, eget pretium ante pretium. Morbi euismod ante eget nibh porta, sit amet gravida nulla scelerisque. Aliquam nec varius arcu. Sed eu erat aliquam, egestas leo ut, malesuada nisi. Vestibulum in egestas lectus. Suspendisse pharetra eget risus quis dictum. Integer sodales malesuada libero in interdum.\n",
    "\n",
    "Mauris sagittis sagittis tellus, sit amet porttitor ipsum ultrices eget. Orci varius natoque penatibus et magnis dis parturient montes, nascetur ridiculus mus. Vivamus rhoncus bibendum lobortis. Duis elementum, risus nec ultricies efficitur, nulla lorem interdum tellus, a imperdiet tortor arcu non velit. Nulla mollis purus ex. Mauris at scelerisque ipsum, eget elementum lorem. Ut leo felis, consequat quis quam id, sodales ultrices erat."
   ]
  }
 ],
 "metadata": {
  "kernelspec": {
   "display_name": "Python 3",
   "language": "python",
   "name": "python3"
  },
  "language_info": {
   "codemirror_mode": {
    "name": "ipython",
    "version": 3
   },
   "file_extension": ".py",
   "mimetype": "text/x-python",
   "name": "python",
   "nbconvert_exporter": "python",
   "pygments_lexer": "ipython3",
   "version": "3.7.3"
  }
 },
 "nbformat": 4,
 "nbformat_minor": 2
}
